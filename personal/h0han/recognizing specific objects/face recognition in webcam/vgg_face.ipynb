{
 "cells": [
  {
   "cell_type": "markdown",
   "metadata": {},
   "source": [
    "https://machinelearningmastery.com/how-to-perform-face-recognition-with-vggface2-convolutional-neural-network-in-keras/"
   ]
  },
  {
   "cell_type": "code",
   "execution_count": 57,
   "metadata": {},
   "outputs": [],
   "source": [
    "from numpy import expand_dims\n",
    "from matplotlib import pyplot\n",
    "from PIL import Image\n",
    "from numpy import asarray\n",
    "from mtcnn.mtcnn import MTCNN\n",
    "from keras_vggface.vggface import VGGFace\n",
    "from keras_vggface.utils import preprocess_input\n",
    "from keras_vggface.utils import decode_predictions"
   ]
  },
  {
   "cell_type": "code",
   "execution_count": 58,
   "metadata": {
    "scrolled": true
   },
   "outputs": [
    {
     "name": "stdout",
     "output_type": "stream",
     "text": [
      "0.6\n"
     ]
    }
   ],
   "source": [
    "print(keras_vggface.__version__)"
   ]
  },
  {
   "cell_type": "code",
   "execution_count": 59,
   "metadata": {},
   "outputs": [
    {
     "name": "stdout",
     "output_type": "stream",
     "text": [
      "0.1.0\n"
     ]
    }
   ],
   "source": [
    "print(mtcnn.__version__)"
   ]
  },
  {
   "cell_type": "code",
   "execution_count": 65,
   "metadata": {},
   "outputs": [
    {
     "name": "stdout",
     "output_type": "stream",
     "text": [
      "b' Kim_Jong-dae': 5.303%\n",
      "b' Yuto_Nakajima': 3.695%\n",
      "b' Aika_Oota': 3.333%\n",
      "b' Ryutaro_Morimoto': 3.252%\n",
      "b' Yuuka_Maeda': 1.880%\n"
     ]
    }
   ],
   "source": [
    "# Example of face detection with a vggface2 model\n",
    "\n",
    "# extract a single face from a given photograph\n",
    "def extract_face(filename, required_size=(224, 224)):\n",
    "\t# load image from file\n",
    "\tpixels = pyplot.imread(filename)\n",
    "\t# create the detector, using default weights\n",
    "\tdetector = MTCNN()\n",
    "\t# detect faces in the image\n",
    "\tresults = detector.detect_faces(pixels)\n",
    "\t# extract the bounding box from the first face\n",
    "\tx1, y1, width, height = results[0]['box']\n",
    "\tx2, y2 = x1 + width, y1 + height\n",
    "\t# extract the face\n",
    "\tface = pixels[y1:y2, x1:x2]\n",
    "\t# resize pixels to the model size\n",
    "\timage = Image.fromarray(face)\n",
    "\timage = image.resize(required_size)\n",
    "\tface_array = asarray(image)\n",
    "\treturn face_array\n",
    " \n",
    "# load the photo and extract the face\n",
    "pixels = extract_face('img/han.jpg')\n",
    "# convert one face into samples\n",
    "pixels = pixels.astype('float32')\n",
    "samples = expand_dims(pixels, axis=0)\n",
    "# prepare the face for the model, e.g. center pixels\n",
    "samples = preprocess_input(samples, version=2)\n",
    "# create a vggface model\n",
    "model = VGGFace(model='resnet50')\n",
    "# perform prediction\n",
    "yhat = model.predict(samples)\n",
    "# convert prediction into names\n",
    "results = decode_predictions(yhat)\n",
    "# display most likely results\n",
    "for result in results[0]:\n",
    "\tprint('%s: %.3f%%' % (result[0], result[1]*100))"
   ]
  },
  {
   "cell_type": "code",
   "execution_count": 52,
   "metadata": {},
   "outputs": [],
   "source": [
    "from scipy.spatial.distance import cosine\n",
    "from keras_vggface.vggface import VGGFace\n",
    "from keras_vggface.utils import preprocess_input\n",
    "\n",
    "# extract faces and calculate face embeddings for a list of photo files\n",
    "def get_embeddings(filenames):\n",
    "\t# extract faces\n",
    "\tfaces = [extract_face(f) for f in filenames]\n",
    "\t# convert into an array of samples\n",
    "\tsamples = asarray(faces, 'float32')\n",
    "\t# prepare the face for the model, e.g. center pixels\n",
    "\tsamples = preprocess_input(samples, version=2)\n",
    "\t# create a vggface model\n",
    "\tmodel = VGGFace(model='resnet50', include_top=False, input_shape=(224, 224, 3), pooling='avg')\n",
    "\t# perform prediction\n",
    "\tyhat = model.predict(samples)\n",
    "\treturn yhat"
   ]
  },
  {
   "cell_type": "code",
   "execution_count": 53,
   "metadata": {},
   "outputs": [],
   "source": [
    "def is_match(known_embedding, candidate_embedding, thresh=0.5):\n",
    "\t# calculate distance between embeddings\n",
    "\tscore = cosine(known_embedding, candidate_embedding)\n",
    "\tif score <= thresh:\n",
    "\t\tprint('>face is a Match (%.3f <= %.3f)' % (score, thresh))\n",
    "\telse:\n",
    "\t\tprint('>face is NOT a Match (%.3f > %.3f)' % (score, thresh))"
   ]
  },
  {
   "cell_type": "code",
   "execution_count": null,
   "metadata": {},
   "outputs": [],
   "source": [
    "# define filenames\n",
    "filenames = ['sharon_stone1.jpg', 'sharon_stone2.jpg',\n",
    "\t'sharon_stone3.jpg', 'channing_tatum.jpg']\n",
    "# get embeddings file filenames\n",
    "embeddings = get_embeddings(filenames)\n",
    "# define sharon stone\n",
    "sharon_id = embeddings[0]\n",
    "# verify known photos of sharon\n",
    "print('Positive Tests')\n",
    "is_match(embeddings[0], embeddings[1])\n",
    "is_match(embeddings[0], embeddings[2])\n",
    "# verify known photos of other people\n",
    "print('Negative Tests')\n",
    "is_match(embeddings[0], embeddings[3])"
   ]
  }
 ],
 "metadata": {
  "kernelspec": {
   "display_name": "Python 3",
   "language": "python",
   "name": "python3"
  },
  "language_info": {
   "codemirror_mode": {
    "name": "ipython",
    "version": 3
   },
   "file_extension": ".py",
   "mimetype": "text/x-python",
   "name": "python",
   "nbconvert_exporter": "python",
   "pygments_lexer": "ipython3",
   "version": "3.7.0"
  }
 },
 "nbformat": 4,
 "nbformat_minor": 2
}
