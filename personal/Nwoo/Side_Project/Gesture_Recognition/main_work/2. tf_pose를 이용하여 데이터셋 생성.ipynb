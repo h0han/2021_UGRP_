{
 "cells": [
  {
   "cell_type": "markdown",
   "metadata": {},
   "source": [
    "# 모듈 Import"
   ]
  },
  {
   "cell_type": "code",
   "execution_count": 1,
   "metadata": {},
   "outputs": [],
   "source": [
    "import easydict\n",
    "import cv2\n",
    "import numpy as np\n",
    "from tf_pose.estimator import TfPoseEstimator\n",
    "from tf_pose.networks import get_graph_path, model_wh\n",
    "import os\n",
    "import time"
   ]
  },
  {
   "cell_type": "markdown",
   "metadata": {},
   "source": [
    "# 데이터셋 생성"
   ]
  },
  {
   "cell_type": "code",
   "execution_count": 4,
   "metadata": {},
   "outputs": [
    {
     "name": "stderr",
     "output_type": "stream",
     "text": [
      "[2021-01-19 16:55:31,874] [TfPoseEstimator] [INFO] loading graph from C:\\Users\\nakhe\\Desktop\\UGRP\\2021_UGRP\\personal\\nakon_zoe\\3. Side Project\\2021.01.25. Gesture Recognition\\2021.01.19. Final_Step\\models\\graph/mobilenet_thin/graph_opt.pb(default size=432x368)\n"
     ]
    }
   ],
   "source": [
    "# 모델 import\n",
    "e = TfPoseEstimator(get_graph_path('mobilenet_thin'), target_size=(432, 368))\n",
    "\n",
    "# Dataset Path 지정\n",
    "data_path = ['./1. Original_Datasets/', './2. Jointed_Datasets/', './2. Jointed_Datasets_without_background/']\n",
    "pose_classes = ['1. Pedestrian/', '2. Lier/', '3. Sitter/', '4. Taxier/', '5. Blocker/']\n",
    "    \n",
    "for pose_class in pose_classes:\n",
    "\n",
    "    original_path = data_path[0]+pose_class\n",
    "    new_path = data_path[1]+pose_class\n",
    "    new_path_without_background = data_path[2]+pose_class\n",
    "    file_list = os.listdir(original_path) # 해당 path 내의 모든 파일 list 가져오기\n",
    "\n",
    "    for file in file_list:\n",
    "\n",
    "        # input 단위 설정\n",
    "        args = easydict.EasyDict({\"image\": original_path+file})\n",
    "\n",
    "        # image 로드\n",
    "        image = cv2.imread(args.image)\n",
    "        \n",
    "        # Skeleton 그리기 with Background\n",
    "        humans = e.inference(image, upsample_size=4.0)\n",
    "        image = TfPoseEstimator.draw_humans(image, humans, imgcopy=False)\n",
    "        \n",
    "        # 이미지 저장\n",
    "        cv2.imwrite(new_path+file,image)\n",
    "\n",
    "        # Skeleton 그리기 without Background\n",
    "        humans = e.inference(image, upsample_size=4.0)\n",
    "        image = np.zeros(image.shape,dtype=np.uint8)\n",
    "        image.fill(255) \n",
    "        image = TfPoseEstimator.draw_humans(image, humans, imgcopy=False)\n",
    "\n",
    "        # 이미지 저장\n",
    "        cv2.imwrite(new_path_without_background+file,image)\n",
    "        \n",
    "        time.sleep(0.1)\n",
    "        \n",
    "    time.sleep(1)"
   ]
  },
  {
   "cell_type": "markdown",
   "metadata": {},
   "source": [
    "# 특정 이미지 스켈레톤 뽑기"
   ]
  },
  {
   "cell_type": "code",
   "execution_count": 1,
   "metadata": {},
   "outputs": [],
   "source": [
    "import easydict\n",
    "import cv2\n",
    "import numpy as np\n",
    "from tf_pose.estimator import TfPoseEstimator\n",
    "from tf_pose.networks import get_graph_path, model_wh\n",
    "import os\n",
    "import time"
   ]
  },
  {
   "cell_type": "code",
   "execution_count": 4,
   "metadata": {},
   "outputs": [
    {
     "name": "stderr",
     "output_type": "stream",
     "text": [
      "[2021-01-19 22:45:29,702] [TfPoseEstimator] [INFO] loading graph from C:\\Users\\nakhe\\Desktop\\UGRP\\2021_UGRP\\personal\\nakon_zoe\\3. Side Project\\2021.01.25. Gesture Recognition\\2021.01.19. Final_Step\\models\\graph/mobilenet_thin/graph_opt.pb(default size=432x368)\n"
     ]
    },
    {
     "data": {
      "text/plain": [
       "True"
      ]
     },
     "execution_count": 4,
     "metadata": {},
     "output_type": "execute_result"
    }
   ],
   "source": [
    "# 모델 import\n",
    "e = TfPoseEstimator(get_graph_path('mobilenet_thin'), target_size=(432, 368))\n",
    "\n",
    "# input 단위 설정\n",
    "args = easydict.EasyDict({\"image\": 'taxier_test.jpg'})\n",
    "\n",
    "# image 로드\n",
    "image = cv2.imread(args.image)\n",
    "\n",
    "# Skeleton 그리기 with Background\n",
    "humans = e.inference(image, upsample_size=4.0)\n",
    "image = TfPoseEstimator.draw_humans(image, humans, imgcopy=False)\n",
    "\n",
    "# 이미지 저장\n",
    "cv2.imwrite('taxier_test_back.jpg',image)\n",
    "\n",
    "# Skeleton 그리기 without Background\n",
    "humans = e.inference(image, upsample_size=4.0)\n",
    "image = np.zeros(image.shape,dtype=np.uint8)\n",
    "image.fill(255) \n",
    "image = TfPoseEstimator.draw_humans(image, humans, imgcopy=False)\n",
    "\n",
    "# 이미지 저장\n",
    "cv2.imwrite('taxier_test_noback.jpg',image)"
   ]
  },
  {
   "cell_type": "code",
   "execution_count": null,
   "metadata": {},
   "outputs": [],
   "source": []
  }
 ],
 "metadata": {
  "kernelspec": {
   "display_name": "Python 3",
   "language": "python",
   "name": "python3"
  },
  "language_info": {
   "codemirror_mode": {
    "name": "ipython",
    "version": 3
   },
   "file_extension": ".py",
   "mimetype": "text/x-python",
   "name": "python",
   "nbconvert_exporter": "python",
   "pygments_lexer": "ipython3",
   "version": "3.7.0"
  }
 },
 "nbformat": 4,
 "nbformat_minor": 2
}
